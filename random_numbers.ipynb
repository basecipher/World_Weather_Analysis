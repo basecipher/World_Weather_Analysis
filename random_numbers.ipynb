{
 "cells": [
  {
   "cell_type": "code",
   "execution_count": 3,
   "metadata": {},
   "outputs": [],
   "source": [
    "# Import the random module.\n",
    "import random"
   ]
  },
  {
   "cell_type": "code",
   "execution_count": 4,
   "metadata": {},
   "outputs": [],
   "source": [
    "x = 1\n",
    "latitudes = []\n",
    "while x < 11:\n",
    "    random_lat = random.randint(-90, 89) + random.random()\n",
    "    latitudes.append(random_lat)\n",
    "    x += 1"
   ]
  },
  {
   "cell_type": "code",
   "execution_count": 5,
   "metadata": {},
   "outputs": [],
   "source": [
    "# Import the NumPy module.\n",
    "import numpy as np"
   ]
  },
  {
   "cell_type": "code",
   "execution_count": 12,
   "metadata": {},
   "outputs": [
    {
     "data": {
      "text/plain": [
       "array([-8.14089564e+01, -5.95367122e+01, -2.60009801e+01, -7.89640252e+01,\n",
       "        6.07074953e+01, -6.17934389e+01,  7.72737553e-02,  4.79400028e+01,\n",
       "       -4.58963050e+01,  6.73141178e+01,  1.38100075e+01,  6.79504658e+01,\n",
       "       -4.47699590e+01,  8.96736049e+01, -7.99289641e+01, -4.40001731e+01,\n",
       "       -5.00597789e+01, -8.57582397e+01, -5.77707840e+01,  1.37285714e+01,\n",
       "        6.12892803e+01, -8.07840700e+01,  6.67146360e+01,  5.36080635e+01,\n",
       "       -7.98172301e+01, -5.00873019e+00, -8.56076688e+01, -2.34678715e+01,\n",
       "        2.18809447e+01, -2.77422727e+01, -1.79421818e+01,  2.96080104e+00,\n",
       "        3.55909428e+01, -8.44760838e+01, -6.69200028e+01,  1.81921173e+01,\n",
       "       -3.69874491e+01, -4.61863241e+01, -8.38023717e+01,  7.51108152e+01,\n",
       "        5.79260725e+01, -8.25808140e+01, -3.91875039e+01,  7.46616305e+01,\n",
       "        3.94842156e+01,  4.17831332e+01,  3.44192397e+01, -6.43729000e+01,\n",
       "        2.06237650e+00, -7.15951008e+01])"
      ]
     },
     "execution_count": 12,
     "metadata": {},
     "output_type": "execute_result"
    }
   ],
   "source": [
    "np.random.uniform(-90.000, 90.000, size=50)"
   ]
  },
  {
   "cell_type": "code",
   "execution_count": 15,
   "metadata": {},
   "outputs": [],
   "source": [
    "#IMport timeit.\n",
    "import timeit"
   ]
  },
  {
   "cell_type": "code",
   "execution_count": 16,
   "metadata": {},
   "outputs": [
    {
     "name": "stdout",
     "output_type": "stream",
     "text": [
      "21.5 µs ± 1.47 µs per loop (mean ± std. dev. of 7 runs, 10000 loops each)\n"
     ]
    }
   ],
   "source": [
    "%timeit np.random.uniform(-90.000, 90.000, size=1500)"
   ]
  },
  {
   "cell_type": "code",
   "execution_count": 17,
   "metadata": {},
   "outputs": [
    {
     "name": "stdout",
     "output_type": "stream",
     "text": [
      "3.34 ms ± 258 µs per loop (mean ± std. dev. of 7 runs, 100 loops each)\n"
     ]
    }
   ],
   "source": [
    "def latitudes(size):\n",
    "    latitudes = []\n",
    "    x = 0\n",
    "    while x < (size):\n",
    "        random_lat = random.randint(-90, 90) + random.random()\n",
    "        latitudes.append(random_lat)\n",
    "        x += 1\n",
    "    return latitudes\n",
    "# Call the function with 1500.\n",
    "%timeit latitudes(1500)"
   ]
  },
  {
   "cell_type": "code",
   "execution_count": null,
   "metadata": {},
   "outputs": [],
   "source": []
  }
 ],
 "metadata": {
  "kernelspec": {
   "display_name": "Python 3",
   "language": "python",
   "name": "python3"
  },
  "language_info": {
   "codemirror_mode": {
    "name": "ipython",
    "version": 3
   },
   "file_extension": ".py",
   "mimetype": "text/x-python",
   "name": "python",
   "nbconvert_exporter": "python",
   "pygments_lexer": "ipython3",
   "version": "3.7.7"
  }
 },
 "nbformat": 4,
 "nbformat_minor": 4
}
